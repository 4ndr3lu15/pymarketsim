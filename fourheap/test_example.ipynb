{
 "cells": [
  {
   "cell_type": "code",
   "execution_count": 1,
   "id": "initial_id",
   "metadata": {
    "collapsed": true,
    "ExecuteTime": {
     "end_time": "2023-10-31T21:18:55.419465Z",
     "start_time": "2023-10-31T21:18:55.381239Z"
    }
   },
   "outputs": [],
   "source": [
    "%load_ext autoreload\n",
    "%autoreload 2\n",
    "\n",
    "from fourheap import FourHeap\n",
    "from order import Order\n",
    "import constants\n",
    "fh = FourHeap()\n",
    "from order_queue import OrderQueue\n",
    "from order import Order\n",
    "import constants"
   ]
  },
  {
   "cell_type": "code",
   "execution_count": 2,
   "outputs": [],
   "source": [
    "order1 = Order(price=300, quantity=10, order_id=1, agent_id=1, order_type=constants.BUY, time=1)\n",
    "order2 = Order(price=200, quantity=5, order_id=2, agent_id=1, order_type=constants.BUY, time=1)\n",
    "order3 = Order(price=150, quantity=15, order_id=3, agent_id=1, order_type=constants.BUY,\n",
    "               time=1)\n",
    "\n",
    "order7 = Order(price=100, quantity=30, order_id=7, agent_id=1, order_type=constants.SELL, time=1)\n"
   ],
   "metadata": {
    "collapsed": false,
    "ExecuteTime": {
     "end_time": "2023-10-31T21:18:55.904727Z",
     "start_time": "2023-10-31T21:18:55.888975Z"
    }
   },
   "id": "9ebe7d13cf6423a0"
  },
  {
   "cell_type": "code",
   "execution_count": 3,
   "outputs": [],
   "source": [
    "fh.insert(order1)\n",
    "fh.insert(order2)\n",
    "fh.insert(order3)\n",
    "fh.insert(order7)"
   ],
   "metadata": {
    "collapsed": false,
    "ExecuteTime": {
     "end_time": "2023-10-31T21:18:56.477431Z",
     "start_time": "2023-10-31T21:18:56.464606Z"
    }
   },
   "id": "93cdb5497d91e96f"
  },
  {
   "cell_type": "code",
   "execution_count": 4,
   "outputs": [
    {
     "data": {
      "text/plain": "[(150,\n  Order(price=150, order_type=1, quantity=15, agent_id=1, time=1, order_id=3, asset_id=1)),\n (300,\n  Order(price=300, order_type=1, quantity=10, agent_id=1, time=1, order_id=1, asset_id=1)),\n (200,\n  Order(price=200, order_type=1, quantity=5, agent_id=1, time=1, order_id=2, asset_id=1))]"
     },
     "execution_count": 4,
     "metadata": {},
     "output_type": "execute_result"
    }
   ],
   "source": [
    "fh.buy_matched.heap"
   ],
   "metadata": {
    "collapsed": false,
    "ExecuteTime": {
     "end_time": "2023-10-31T21:18:57.234239Z",
     "start_time": "2023-10-31T21:18:57.221080Z"
    }
   },
   "id": "747b16129f56edbf"
  },
  {
   "cell_type": "code",
   "execution_count": 5,
   "outputs": [
    {
     "data": {
      "text/plain": "[(-100,\n  Order(price=100, order_type=-1, quantity=10, agent_id=1, time=1, order_id=7, asset_id=1)),\n (-100,\n  Order(price=100, order_type=-1, quantity=5, agent_id=1, time=1, order_id=8, asset_id=1)),\n (-100,\n  Order(price=100, order_type=-1, quantity=15, agent_id=1, time=1, order_id=9, asset_id=1))]"
     },
     "execution_count": 5,
     "metadata": {},
     "output_type": "execute_result"
    }
   ],
   "source": [
    "fh.sell_matched.heap"
   ],
   "metadata": {
    "collapsed": false,
    "ExecuteTime": {
     "end_time": "2023-10-31T21:18:57.933380Z",
     "start_time": "2023-10-31T21:18:57.918826Z"
    }
   },
   "id": "8169195a279cd32"
  },
  {
   "cell_type": "code",
   "execution_count": 6,
   "outputs": [
    {
     "data": {
      "text/plain": "[]"
     },
     "execution_count": 6,
     "metadata": {},
     "output_type": "execute_result"
    }
   ],
   "source": [
    "fh.buy_unmatched.heap"
   ],
   "metadata": {
    "collapsed": false,
    "ExecuteTime": {
     "end_time": "2023-10-31T21:18:58.623509Z",
     "start_time": "2023-10-31T21:18:58.607704Z"
    }
   },
   "id": "11ed1f5c2ad952a3"
  },
  {
   "cell_type": "code",
   "execution_count": null,
   "outputs": [],
   "source": [],
   "metadata": {
    "collapsed": false
   },
   "id": "9f09233888ad784f"
  }
 ],
 "metadata": {
  "kernelspec": {
   "display_name": "Python 3",
   "language": "python",
   "name": "python3"
  },
  "language_info": {
   "codemirror_mode": {
    "name": "ipython",
    "version": 2
   },
   "file_extension": ".py",
   "mimetype": "text/x-python",
   "name": "python",
   "nbconvert_exporter": "python",
   "pygments_lexer": "ipython2",
   "version": "2.7.6"
  }
 },
 "nbformat": 4,
 "nbformat_minor": 5
}
