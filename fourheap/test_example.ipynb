{
 "cells": [
  {
   "cell_type": "code",
   "execution_count": 12,
   "id": "initial_id",
   "metadata": {
    "collapsed": true,
    "ExecuteTime": {
     "end_time": "2023-11-01T02:38:35.274288Z",
     "start_time": "2023-11-01T02:38:35.152653Z"
    }
   },
   "outputs": [
    {
     "name": "stdout",
     "output_type": "stream",
     "text": [
      "The autoreload extension is already loaded. To reload it, use:\n",
      "  %reload_ext autoreload\n"
     ]
    }
   ],
   "source": [
    "%load_ext autoreload\n",
    "%autoreload 2\n",
    "\n",
    "from fourheap import FourHeap\n",
    "from order import Order\n",
    "import constants"
   ]
  },
  {
   "cell_type": "code",
   "execution_count": 23,
   "outputs": [],
   "source": [
    "fh = FourHeap()\n",
    "\n",
    "order1 = Order(price=300, quantity=10, order_id=1, agent_id=1, order_type=constants.BUY,\n",
    "               time=1)\n",
    "order2 = Order(price=200, quantity=5, order_id=2, agent_id=1, order_type=constants.BUY,\n",
    "               time=1)\n",
    "order3 = Order(price=150, quantity=15, order_id=3, agent_id=1, order_type=constants.BUY, \n",
    "               time=1)\n",
    "\n",
    "order7 = Order(price=20, quantity=15, order_id=7, agent_id=1, order_type=constants.SELL,\n",
    "               time=1)\n",
    "order8 = Order(price=80, quantity=50, order_id=8, agent_id=1, order_type=constants.SELL,\n",
    "                time=1)"
   ],
   "metadata": {
    "collapsed": false,
    "ExecuteTime": {
     "end_time": "2023-11-01T02:38:55.070457Z",
     "start_time": "2023-11-01T02:38:55.054941Z"
    }
   },
   "id": "9ebe7d13cf6423a0"
  },
  {
   "cell_type": "code",
   "execution_count": 24,
   "outputs": [],
   "source": [
    "fh.insert(order2)\n",
    "fh.insert(order3)\n",
    "fh.insert(order7)\n",
    "fh.insert(order8)\n",
    "fh.insert(order1)\n"
   ],
   "metadata": {
    "collapsed": false,
    "ExecuteTime": {
     "end_time": "2023-11-01T02:38:55.314371Z",
     "start_time": "2023-11-01T02:38:55.294954Z"
    }
   },
   "id": "93cdb5497d91e96f"
  },
  {
   "cell_type": "code",
   "execution_count": 25,
   "outputs": [
    {
     "data": {
      "text/plain": "[(150, 3), (200, 2), (300, 1)]"
     },
     "execution_count": 25,
     "metadata": {},
     "output_type": "execute_result"
    }
   ],
   "source": [
    "fh.buy_matched.heap"
   ],
   "metadata": {
    "collapsed": false,
    "ExecuteTime": {
     "end_time": "2023-11-01T02:38:55.607043Z",
     "start_time": "2023-11-01T02:38:55.574783Z"
    }
   },
   "id": "747b16129f56edbf"
  },
  {
   "cell_type": "code",
   "execution_count": 26,
   "outputs": [
    {
     "data": {
      "text/plain": "[(-80, 8), (-20, 7)]"
     },
     "execution_count": 26,
     "metadata": {},
     "output_type": "execute_result"
    }
   ],
   "source": [
    "fh.sell_matched.heap"
   ],
   "metadata": {
    "collapsed": false,
    "ExecuteTime": {
     "end_time": "2023-11-01T02:38:55.870143Z",
     "start_time": "2023-11-01T02:38:55.854410Z"
    }
   },
   "id": "8169195a279cd32"
  },
  {
   "cell_type": "code",
   "execution_count": 27,
   "outputs": [
    {
     "data": {
      "text/plain": "[(80, 8)]"
     },
     "execution_count": 27,
     "metadata": {},
     "output_type": "execute_result"
    }
   ],
   "source": [
    "fh.sell_unmatched.heap"
   ],
   "metadata": {
    "collapsed": false,
    "ExecuteTime": {
     "end_time": "2023-11-01T02:38:56.793546Z",
     "start_time": "2023-11-01T02:38:56.766490Z"
    }
   },
   "id": "11ed1f5c2ad952a3"
  },
  {
   "cell_type": "code",
   "execution_count": 28,
   "outputs": [
    {
     "data": {
      "text/plain": "[]"
     },
     "execution_count": 28,
     "metadata": {},
     "output_type": "execute_result"
    }
   ],
   "source": [
    "fh.buy_unmatched.heap"
   ],
   "metadata": {
    "collapsed": false,
    "ExecuteTime": {
     "end_time": "2023-11-01T02:38:57.333201Z",
     "start_time": "2023-11-01T02:38:57.320461Z"
    }
   },
   "id": "9f09233888ad784f"
  },
  {
   "cell_type": "code",
   "execution_count": 29,
   "outputs": [
    {
     "name": "stdout",
     "output_type": "stream",
     "text": []
    }
   ],
   "source": [
    "print(fh.buy_unmatched)"
   ],
   "metadata": {
    "collapsed": false,
    "ExecuteTime": {
     "end_time": "2023-11-01T02:38:57.604439Z",
     "start_time": "2023-11-01T02:38:57.581264Z"
    }
   },
   "id": "3c43c2da0789ef35"
  },
  {
   "cell_type": "code",
   "execution_count": 30,
   "outputs": [
    {
     "name": "stdout",
     "output_type": "stream",
     "text": [
      "Order(price=150, order_type=1, quantity=15, agent_id=1, time=1, order_id=3, asset_id=1)\n",
      "Order(price=200, order_type=1, quantity=5, agent_id=1, time=1, order_id=2, asset_id=1)\n",
      "Order(price=300, order_type=1, quantity=10, agent_id=1, time=1, order_id=1, asset_id=1)\n"
     ]
    }
   ],
   "source": [
    "print(fh.buy_matched)"
   ],
   "metadata": {
    "collapsed": false,
    "ExecuteTime": {
     "end_time": "2023-11-01T02:38:57.896288Z",
     "start_time": "2023-11-01T02:38:57.883560Z"
    }
   },
   "id": "61fe04339be0c2"
  },
  {
   "cell_type": "code",
   "execution_count": 31,
   "outputs": [
    {
     "name": "stdout",
     "output_type": "stream",
     "text": [
      "Order(price=80, order_type=-1, quantity=15, agent_id=1, time=1, order_id=8, asset_id=1)\n",
      "Order(price=20, order_type=-1, quantity=15, agent_id=1, time=1, order_id=7, asset_id=1)\n"
     ]
    }
   ],
   "source": [
    "print(fh.sell_matched)"
   ],
   "metadata": {
    "collapsed": false,
    "ExecuteTime": {
     "end_time": "2023-11-01T02:38:58.411935Z",
     "start_time": "2023-11-01T02:38:58.398975Z"
    }
   },
   "id": "7c42ecce7faf149a"
  },
  {
   "cell_type": "code",
   "execution_count": 32,
   "outputs": [
    {
     "name": "stdout",
     "output_type": "stream",
     "text": [
      "Order(price=80, order_type=-1, quantity=35, agent_id=1, time=1, order_id=8, asset_id=1)\n"
     ]
    }
   ],
   "source": [
    "print(fh.sell_unmatched)"
   ],
   "metadata": {
    "collapsed": false,
    "ExecuteTime": {
     "end_time": "2023-11-01T02:38:58.847577Z",
     "start_time": "2023-11-01T02:38:58.822600Z"
    }
   },
   "id": "97c20b8738e0e160"
  },
  {
   "cell_type": "code",
   "execution_count": null,
   "outputs": [],
   "source": [],
   "metadata": {
    "collapsed": false
   },
   "id": "6e649f84a266ab4b"
  }
 ],
 "metadata": {
  "kernelspec": {
   "display_name": "Python 3",
   "language": "python",
   "name": "python3"
  },
  "language_info": {
   "codemirror_mode": {
    "name": "ipython",
    "version": 2
   },
   "file_extension": ".py",
   "mimetype": "text/x-python",
   "name": "python",
   "nbconvert_exporter": "python",
   "pygments_lexer": "ipython2",
   "version": "2.7.6"
  }
 },
 "nbformat": 4,
 "nbformat_minor": 5
}
