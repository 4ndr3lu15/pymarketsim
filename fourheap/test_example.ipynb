{
 "cells": [
  {
   "cell_type": "code",
   "execution_count": 155,
   "id": "initial_id",
   "metadata": {
    "collapsed": true,
    "ExecuteTime": {
     "end_time": "2023-11-01T04:36:38.214704Z",
     "start_time": "2023-11-01T04:36:38.036830Z"
    }
   },
   "outputs": [
    {
     "name": "stdout",
     "output_type": "stream",
     "text": [
      "The autoreload extension is already loaded. To reload it, use:\n",
      "  %reload_ext autoreload\n"
     ]
    }
   ],
   "source": [
    "%load_ext autoreload\n",
    "%autoreload 2\n",
    "\n",
    "from fourheap import FourHeap\n",
    "from order import Order\n",
    "import constants"
   ]
  },
  {
   "cell_type": "code",
   "execution_count": 156,
   "outputs": [],
   "source": [
    "fh = FourHeap()\n",
    "\n",
    "order1 = Order(price=300, quantity=10, order_id=1, agent_id=1, order_type=constants.BUY,\n",
    "               time=1)\n",
    "order2 = Order(price=200, quantity=5, order_id=2, agent_id=1, order_type=constants.BUY,\n",
    "               time=1)\n",
    "order3 = Order(price=150, quantity=15, order_id=3, agent_id=1, order_type=constants.BUY, \n",
    "               time=1)\n",
    "\n",
    "order7 = Order(price=20, quantity=15, order_id=7, agent_id=1, order_type=constants.SELL,\n",
    "               time=1)\n",
    "order8 = Order(price=80, quantity=50, order_id=8, agent_id=1, order_type=constants.SELL,\n",
    "                time=1)"
   ],
   "metadata": {
    "collapsed": false,
    "ExecuteTime": {
     "end_time": "2023-11-01T04:36:38.226204Z",
     "start_time": "2023-11-01T04:36:38.213493Z"
    }
   },
   "id": "9ebe7d13cf6423a0"
  },
  {
   "cell_type": "code",
   "execution_count": 157,
   "outputs": [],
   "source": [
    "fh.insert(order3)\n",
    "fh.insert(order7)\n",
    "fh.insert(order8)\n",
    "fh.insert(order1)\n",
    "fh.insert(order2)\n"
   ],
   "metadata": {
    "collapsed": false,
    "ExecuteTime": {
     "end_time": "2023-11-01T04:36:38.333261Z",
     "start_time": "2023-11-01T04:36:38.319646Z"
    }
   },
   "id": "93cdb5497d91e96f"
  },
  {
   "cell_type": "code",
   "execution_count": 158,
   "outputs": [
    {
     "data": {
      "text/plain": "[(150, 3), (300, 1), (200, 2)]"
     },
     "execution_count": 158,
     "metadata": {},
     "output_type": "execute_result"
    }
   ],
   "source": [
    "fh.buy_matched.heap"
   ],
   "metadata": {
    "collapsed": false,
    "ExecuteTime": {
     "end_time": "2023-11-01T04:36:38.483150Z",
     "start_time": "2023-11-01T04:36:38.469063Z"
    }
   },
   "id": "747b16129f56edbf"
  },
  {
   "cell_type": "code",
   "execution_count": 159,
   "outputs": [
    {
     "data": {
      "text/plain": "[(-80, 8), (-20, 7)]"
     },
     "execution_count": 159,
     "metadata": {},
     "output_type": "execute_result"
    }
   ],
   "source": [
    "fh.sell_matched.heap"
   ],
   "metadata": {
    "collapsed": false,
    "ExecuteTime": {
     "end_time": "2023-11-01T04:36:38.644560Z",
     "start_time": "2023-11-01T04:36:38.621905Z"
    }
   },
   "id": "8169195a279cd32"
  },
  {
   "cell_type": "code",
   "execution_count": 160,
   "outputs": [
    {
     "data": {
      "text/plain": "[(80, 8)]"
     },
     "execution_count": 160,
     "metadata": {},
     "output_type": "execute_result"
    }
   ],
   "source": [
    "fh.sell_unmatched.heap"
   ],
   "metadata": {
    "collapsed": false,
    "ExecuteTime": {
     "end_time": "2023-11-01T04:36:38.770811Z",
     "start_time": "2023-11-01T04:36:38.759003Z"
    }
   },
   "id": "11ed1f5c2ad952a3"
  },
  {
   "cell_type": "code",
   "execution_count": 161,
   "outputs": [
    {
     "data": {
      "text/plain": "[]"
     },
     "execution_count": 161,
     "metadata": {},
     "output_type": "execute_result"
    }
   ],
   "source": [
    "fh.buy_unmatched.heap"
   ],
   "metadata": {
    "collapsed": false,
    "ExecuteTime": {
     "end_time": "2023-11-01T04:36:38.937975Z",
     "start_time": "2023-11-01T04:36:38.925498Z"
    }
   },
   "id": "9f09233888ad784f"
  },
  {
   "cell_type": "code",
   "execution_count": 162,
   "outputs": [
    {
     "name": "stdout",
     "output_type": "stream",
     "text": []
    }
   ],
   "source": [
    "print(fh.buy_unmatched)"
   ],
   "metadata": {
    "collapsed": false,
    "ExecuteTime": {
     "end_time": "2023-11-01T04:36:39.087463Z",
     "start_time": "2023-11-01T04:36:39.072709Z"
    }
   },
   "id": "3c43c2da0789ef35"
  },
  {
   "cell_type": "code",
   "execution_count": 163,
   "outputs": [
    {
     "name": "stdout",
     "output_type": "stream",
     "text": [
      "Order(price=150, order_type=1, quantity=15, agent_id=1, time=1, order_id=3, asset_id=1)\n",
      "Order(price=300, order_type=1, quantity=10, agent_id=1, time=1, order_id=1, asset_id=1)\n",
      "Order(price=200, order_type=1, quantity=5, agent_id=1, time=1, order_id=2, asset_id=1)\n"
     ]
    }
   ],
   "source": [
    "print(fh.buy_matched)"
   ],
   "metadata": {
    "collapsed": false,
    "ExecuteTime": {
     "end_time": "2023-11-01T04:36:39.227673Z",
     "start_time": "2023-11-01T04:36:39.214472Z"
    }
   },
   "id": "61fe04339be0c2"
  },
  {
   "cell_type": "code",
   "execution_count": 164,
   "outputs": [
    {
     "name": "stdout",
     "output_type": "stream",
     "text": [
      "Order(price=80, order_type=-1, quantity=15, agent_id=1, time=1, order_id=8, asset_id=1)\n",
      "Order(price=20, order_type=-1, quantity=15, agent_id=1, time=1, order_id=7, asset_id=1)\n"
     ]
    }
   ],
   "source": [
    "print(fh.sell_matched)"
   ],
   "metadata": {
    "collapsed": false,
    "ExecuteTime": {
     "end_time": "2023-11-01T04:36:39.392897Z",
     "start_time": "2023-11-01T04:36:39.380637Z"
    }
   },
   "id": "7c42ecce7faf149a"
  },
  {
   "cell_type": "code",
   "execution_count": 165,
   "outputs": [
    {
     "name": "stdout",
     "output_type": "stream",
     "text": [
      "Order(price=80, order_type=-1, quantity=35, agent_id=1, time=1, order_id=8, asset_id=1)\n"
     ]
    }
   ],
   "source": [
    "print(fh.sell_unmatched)"
   ],
   "metadata": {
    "collapsed": false,
    "ExecuteTime": {
     "end_time": "2023-11-01T04:36:39.813206Z",
     "start_time": "2023-11-01T04:36:39.799593Z"
    }
   },
   "id": "97c20b8738e0e160"
  },
  {
   "cell_type": "code",
   "execution_count": 166,
   "outputs": [],
   "source": [
    "fh.remove(7)"
   ],
   "metadata": {
    "collapsed": false,
    "ExecuteTime": {
     "end_time": "2023-11-01T04:36:39.983380Z",
     "start_time": "2023-11-01T04:36:39.971534Z"
    }
   },
   "id": "6e649f84a266ab4b"
  },
  {
   "cell_type": "code",
   "execution_count": 167,
   "outputs": [
    {
     "data": {
      "text/plain": "[(-80, 8), (-20, 7)]"
     },
     "execution_count": 167,
     "metadata": {},
     "output_type": "execute_result"
    }
   ],
   "source": [
    "fh.sell_matched.heap"
   ],
   "metadata": {
    "collapsed": false,
    "ExecuteTime": {
     "end_time": "2023-11-01T04:36:40.143521Z",
     "start_time": "2023-11-01T04:36:40.122323Z"
    }
   },
   "id": "3386bcd8b0da583e"
  },
  {
   "cell_type": "code",
   "execution_count": 168,
   "outputs": [
    {
     "name": "stdout",
     "output_type": "stream",
     "text": [
      "Order(price=80, order_type=-1, quantity=30, agent_id=1, time=1, order_id=8, asset_id=1)\n"
     ]
    }
   ],
   "source": [
    "print(fh.sell_matched)"
   ],
   "metadata": {
    "collapsed": false,
    "ExecuteTime": {
     "end_time": "2023-11-01T04:36:40.291457Z",
     "start_time": "2023-11-01T04:36:40.278257Z"
    }
   },
   "id": "f5ba9a22f4298ec9"
  },
  {
   "cell_type": "code",
   "execution_count": 169,
   "outputs": [],
   "source": [
    "out = fh.market_clear()"
   ],
   "metadata": {
    "collapsed": false,
    "ExecuteTime": {
     "end_time": "2023-11-01T04:36:40.632852Z",
     "start_time": "2023-11-01T04:36:40.612077Z"
    }
   },
   "id": "8913eb6e1d953001"
  },
  {
   "cell_type": "code",
   "execution_count": 170,
   "outputs": [
    {
     "name": "stdout",
     "output_type": "stream",
     "text": [
      "MatchedOrder(price=80, order=Order(price=150, order_type=1, quantity=15, agent_id=1, time=1, order_id=3, asset_id=1))\n",
      "MatchedOrder(price=80, order=Order(price=300, order_type=1, quantity=10, agent_id=1, time=1, order_id=1, asset_id=1))\n",
      "MatchedOrder(price=80, order=Order(price=200, order_type=1, quantity=5, agent_id=1, time=1, order_id=2, asset_id=1))\n",
      "MatchedOrder(price=80, order=Order(price=80, order_type=-1, quantity=30, agent_id=1, time=1, order_id=8, asset_id=1))\n"
     ]
    }
   ],
   "source": [],
   "metadata": {
    "collapsed": false,
    "ExecuteTime": {
     "end_time": "2023-11-01T04:36:40.958803Z",
     "start_time": "2023-11-01T04:36:40.940612Z"
    }
   },
   "id": "c3911e579bae5350"
  },
  {
   "cell_type": "code",
   "execution_count": 137,
   "outputs": [
    {
     "data": {
      "text/plain": "[1, 2, 2, 4]"
     },
     "execution_count": 137,
     "metadata": {},
     "output_type": "execute_result"
    }
   ],
   "source": [
    "[1, 2] + [2, 4]"
   ],
   "metadata": {
    "collapsed": false,
    "ExecuteTime": {
     "end_time": "2023-11-01T04:35:28.899618Z",
     "start_time": "2023-11-01T04:35:28.713846Z"
    }
   },
   "id": "7007cb5c61938aeb"
  },
  {
   "cell_type": "code",
   "execution_count": null,
   "outputs": [],
   "source": [],
   "metadata": {
    "collapsed": false
   },
   "id": "eb97977a550f358d"
  }
 ],
 "metadata": {
  "kernelspec": {
   "display_name": "Python 3",
   "language": "python",
   "name": "python3"
  },
  "language_info": {
   "codemirror_mode": {
    "name": "ipython",
    "version": 2
   },
   "file_extension": ".py",
   "mimetype": "text/x-python",
   "name": "python",
   "nbconvert_exporter": "python",
   "pygments_lexer": "ipython2",
   "version": "2.7.6"
  }
 },
 "nbformat": 4,
 "nbformat_minor": 5
}
