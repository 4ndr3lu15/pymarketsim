{
 "cells": [
  {
   "cell_type": "code",
   "execution_count": 1,
   "id": "initial_id",
   "metadata": {
    "collapsed": true,
    "ExecuteTime": {
     "end_time": "2023-10-31T21:29:10.751373Z",
     "start_time": "2023-10-31T21:29:10.728454Z"
    }
   },
   "outputs": [],
   "source": [
    "%load_ext autoreload\n",
    "%autoreload 2\n",
    "\n",
    "from fourheap import FourHeap\n",
    "from order import Order\n",
    "import constants"
   ]
  },
  {
   "cell_type": "code",
   "execution_count": 2,
   "outputs": [],
   "source": [
    "fh = FourHeap()\n",
    "\n",
    "order1 = Order(price=300, quantity=10, order_id=1, agent_id=1, order_type=constants.BUY, time=1)\n",
    "order2 = Order(price=200, quantity=5, order_id=2, agent_id=1, order_type=constants.BUY, time=1)\n",
    "order3 = Order(price=150, quantity=15, order_id=3, agent_id=1, order_type=constants.BUY,\n",
    "               time=1)\n",
    "\n",
    "order7 = Order(price=100, quantity=30, order_id=7, agent_id=1, order_type=constants.SELL, time=1)\n"
   ],
   "metadata": {
    "collapsed": false,
    "ExecuteTime": {
     "end_time": "2023-10-31T21:29:11.338568Z",
     "start_time": "2023-10-31T21:29:11.323771Z"
    }
   },
   "id": "9ebe7d13cf6423a0"
  },
  {
   "cell_type": "code",
   "execution_count": 3,
   "outputs": [],
   "source": [
    "fh.insert(order1)\n",
    "fh.insert(order2)\n",
    "fh.insert(order3)\n",
    "fh.insert(order7)"
   ],
   "metadata": {
    "collapsed": false,
    "ExecuteTime": {
     "end_time": "2023-10-31T21:29:11.824308Z",
     "start_time": "2023-10-31T21:29:11.809655Z"
    }
   },
   "id": "93cdb5497d91e96f"
  },
  {
   "cell_type": "code",
   "execution_count": 4,
   "outputs": [
    {
     "data": {
      "text/plain": "[(150,\n  Order(price=150, order_type=1, quantity=15, agent_id=1, time=1, order_id=3, asset_id=1)),\n (300,\n  Order(price=300, order_type=1, quantity=10, agent_id=1, time=1, order_id=1, asset_id=1)),\n (200,\n  Order(price=200, order_type=1, quantity=5, agent_id=1, time=1, order_id=2, asset_id=1))]"
     },
     "execution_count": 4,
     "metadata": {},
     "output_type": "execute_result"
    }
   ],
   "source": [
    "fh.buy_matched.heap"
   ],
   "metadata": {
    "collapsed": false,
    "ExecuteTime": {
     "end_time": "2023-10-31T21:29:12.596017Z",
     "start_time": "2023-10-31T21:29:12.574328Z"
    }
   },
   "id": "747b16129f56edbf"
  },
  {
   "cell_type": "code",
   "execution_count": 5,
   "outputs": [
    {
     "data": {
      "text/plain": "[(-100,\n  Order(price=100, order_type=-1, quantity=10, agent_id=1, time=1, order_id=7, asset_id=1)),\n (-100,\n  Order(price=100, order_type=-1, quantity=5, agent_id=1, time=1, order_id=8, asset_id=1)),\n (-100,\n  Order(price=100, order_type=-1, quantity=15, agent_id=1, time=1, order_id=9, asset_id=1))]"
     },
     "execution_count": 5,
     "metadata": {},
     "output_type": "execute_result"
    }
   ],
   "source": [
    "fh.sell_matched.heap"
   ],
   "metadata": {
    "collapsed": false,
    "ExecuteTime": {
     "end_time": "2023-10-31T21:29:13.571494Z",
     "start_time": "2023-10-31T21:29:13.546793Z"
    }
   },
   "id": "8169195a279cd32"
  },
  {
   "cell_type": "code",
   "execution_count": 17,
   "outputs": [
    {
     "data": {
      "text/plain": "100"
     },
     "execution_count": 17,
     "metadata": {},
     "output_type": "execute_result"
    }
   ],
   "source": [
    "fh.get_bid_quote()"
   ],
   "metadata": {
    "collapsed": false,
    "ExecuteTime": {
     "end_time": "2023-10-31T21:25:40.886718Z",
     "start_time": "2023-10-31T21:25:40.795169Z"
    }
   },
   "id": "11ed1f5c2ad952a3"
  },
  {
   "cell_type": "code",
   "execution_count": 19,
   "outputs": [
    {
     "data": {
      "text/plain": "inf"
     },
     "execution_count": 19,
     "metadata": {},
     "output_type": "execute_result"
    }
   ],
   "source": [
    "fh.get_ask_quote()"
   ],
   "metadata": {
    "collapsed": false,
    "ExecuteTime": {
     "end_time": "2023-10-31T21:26:04.382915Z",
     "start_time": "2023-10-31T21:26:04.345976Z"
    }
   },
   "id": "9f09233888ad784f"
  },
  {
   "cell_type": "code",
   "execution_count": null,
   "outputs": [],
   "source": [],
   "metadata": {
    "collapsed": false
   },
   "id": "3c43c2da0789ef35"
  }
 ],
 "metadata": {
  "kernelspec": {
   "display_name": "Python 3",
   "language": "python",
   "name": "python3"
  },
  "language_info": {
   "codemirror_mode": {
    "name": "ipython",
    "version": 2
   },
   "file_extension": ".py",
   "mimetype": "text/x-python",
   "name": "python",
   "nbconvert_exporter": "python",
   "pygments_lexer": "ipython2",
   "version": "2.7.6"
  }
 },
 "nbformat": 4,
 "nbformat_minor": 5
}
