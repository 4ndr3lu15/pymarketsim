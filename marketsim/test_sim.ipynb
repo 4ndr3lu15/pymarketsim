{
 "cells": [
  {
   "cell_type": "code",
   "execution_count": 19,
   "id": "initial_id",
   "metadata": {
    "collapsed": true,
    "ExecuteTime": {
     "end_time": "2023-11-02T07:21:42.558850Z",
     "start_time": "2023-11-02T07:21:42.548986Z"
    }
   },
   "outputs": [],
   "source": [
    "from marketsim.simulator.simulator import Simulator"
   ]
  },
  {
   "cell_type": "code",
   "execution_count": 20,
   "outputs": [
    {
     "name": "stdout",
     "output_type": "stream",
     "text": [
      "At the end of the simulation we get {0: tensor(71.7746), 1: tensor(-75.5950)}\n",
      "CPU times: user 25.3 ms, sys: 6.04 ms, total: 31.3 ms\n",
      "Wall time: 34 ms\n"
     ]
    }
   ],
   "source": [
    "%%time\n",
    "\n",
    "sim = Simulator(num_agents=2, sim_time=1000, lam=0.7)\n",
    "sim.run()"
   ],
   "metadata": {
    "collapsed": false,
    "ExecuteTime": {
     "end_time": "2023-11-02T07:21:42.823370Z",
     "start_time": "2023-11-02T07:21:42.787615Z"
    }
   },
   "id": "ca5720364942f390"
  },
  {
   "cell_type": "code",
   "execution_count": 21,
   "outputs": [
    {
     "data": {
      "text/plain": "{0: <marketsim.agent.zero_information_agent.ZIAgent at 0x13eee4dd0>,\n 1: <marketsim.agent.zero_information_agent.ZIAgent at 0x13eee5050>}"
     },
     "execution_count": 21,
     "metadata": {},
     "output_type": "execute_result"
    }
   ],
   "source": [
    "sim.agents"
   ],
   "metadata": {
    "collapsed": false,
    "ExecuteTime": {
     "end_time": "2023-11-02T07:21:43.178954Z",
     "start_time": "2023-11-02T07:21:43.176547Z"
    }
   },
   "id": "38ed7b6f00360f1b"
  },
  {
   "cell_type": "code",
   "execution_count": 22,
   "outputs": [
    {
     "name": "stdout",
     "output_type": "stream",
     "text": [
      "-5\n",
      "5\n"
     ]
    }
   ],
   "source": [
    "for agent_id in sim.agents:\n",
    "    print(sim.agents[agent_id].position)"
   ],
   "metadata": {
    "collapsed": false,
    "ExecuteTime": {
     "end_time": "2023-11-02T07:21:43.733294Z",
     "start_time": "2023-11-02T07:21:43.730005Z"
    }
   },
   "id": "bd3a2cd735b36661"
  },
  {
   "cell_type": "code",
   "execution_count": null,
   "outputs": [],
   "source": [],
   "metadata": {
    "collapsed": false
   },
   "id": "e8af27c660544cf2"
  }
 ],
 "metadata": {
  "kernelspec": {
   "display_name": "Python 3",
   "language": "python",
   "name": "python3"
  },
  "language_info": {
   "codemirror_mode": {
    "name": "ipython",
    "version": 2
   },
   "file_extension": ".py",
   "mimetype": "text/x-python",
   "name": "python",
   "nbconvert_exporter": "python",
   "pygments_lexer": "ipython2",
   "version": "2.7.6"
  }
 },
 "nbformat": 4,
 "nbformat_minor": 5
}
