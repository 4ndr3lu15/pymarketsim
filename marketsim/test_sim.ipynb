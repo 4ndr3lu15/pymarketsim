{
 "cells": [
  {
   "cell_type": "code",
   "execution_count": 2,
   "id": "initial_id",
   "metadata": {
    "collapsed": true,
    "ExecuteTime": {
     "end_time": "2023-11-02T07:52:59.818888Z",
     "start_time": "2023-11-02T07:52:57.934617Z"
    }
   },
   "outputs": [],
   "source": [
    "from marketsim.simulator.simulator import Simulator"
   ]
  },
  {
   "cell_type": "code",
   "execution_count": 43,
   "outputs": [
    {
     "name": "stdout",
     "output_type": "stream",
     "text": [
      "At the end of the simulation we get {0: tensor(-17248.), 1: tensor(-25856.), 2: tensor(-25856.), 3: tensor(-3.3219), 4: tensor(8608.), 5: tensor(-17232.), 6: tensor(2.1833), 7: tensor(-34496.), 8: tensor(25888.), 9: tensor(-22.1253), 10: tensor(8616.), 11: tensor(-25856.), 12: tensor(8632.), 13: tensor(-34496.), 14: tensor(8640.), 15: tensor(-8640.), 16: tensor(-8624.), 17: tensor(34496.), 18: tensor(25856.), 19: tensor(8640.), 20: tensor(-8640.), 21: tensor(-8616.), 22: tensor(-17248.), 23: tensor(-8648.), 24: tensor(-8632.), 25: tensor(-34496.), 26: tensor(-8624.), 27: tensor(34496.), 28: tensor(-8616.), 29: tensor(-34464.), 30: tensor(-8632.), 31: tensor(-1.2202), 32: tensor(43104.), 33: tensor(25856.), 34: tensor(17264.), 35: tensor(-5.0623), 36: tensor(-17264.), 37: tensor(25888.), 38: tensor(34496.), 39: tensor(-8632.), 40: tensor(17248.), 41: tensor(-17232.), 42: tensor(-8624.), 43: tensor(-17248.), 44: tensor(25856.), 45: tensor(25856.), 46: tensor(6.7022), 47: tensor(-68992.), 48: tensor(-17248.), 49: tensor(-17248.), 50: tensor(34528.), 51: tensor(8640.), 52: tensor(-18.1625), 53: tensor(-17248.), 54: tensor(-8640.), 55: tensor(8616.), 56: tensor(34496.), 57: tensor(-8632.), 58: tensor(17264.), 59: tensor(17248.), 60: tensor(8608.), 61: tensor(-10.3045), 62: tensor(25856.), 63: tensor(51712.), 64: tensor(-17216.), 65: tensor(-17232.)}\n",
      "CPU times: user 829 ms, sys: 14.6 ms, total: 844 ms\n",
      "Wall time: 922 ms\n"
     ]
    }
   ],
   "source": [
    "%%time\n",
    "\n",
    "sim = Simulator(num_agents=66, sim_time=60000, lam=1e-4, mean=10e7, r=.05, shock_var=10e6)\n",
    "sim.run()"
   ],
   "metadata": {
    "collapsed": false,
    "ExecuteTime": {
     "end_time": "2023-11-02T08:05:19.680897Z",
     "start_time": "2023-11-02T08:05:18.748142Z"
    }
   },
   "id": "ca5720364942f390"
  },
  {
   "cell_type": "code",
   "execution_count": 37,
   "outputs": [
    {
     "data": {
      "text/plain": "{0: <marketsim.agent.zero_information_agent.ZIAgent at 0x15d9bb1d0>,\n 1: <marketsim.agent.zero_information_agent.ZIAgent at 0x15d9bb150>,\n 2: <marketsim.agent.zero_information_agent.ZIAgent at 0x15d9bb350>,\n 3: <marketsim.agent.zero_information_agent.ZIAgent at 0x15d9bb410>,\n 4: <marketsim.agent.zero_information_agent.ZIAgent at 0x15d9bb4d0>,\n 5: <marketsim.agent.zero_information_agent.ZIAgent at 0x15d9bb490>,\n 6: <marketsim.agent.zero_information_agent.ZIAgent at 0x15d9bb5d0>,\n 7: <marketsim.agent.zero_information_agent.ZIAgent at 0x15d9bb590>,\n 8: <marketsim.agent.zero_information_agent.ZIAgent at 0x15d9bb690>,\n 9: <marketsim.agent.zero_information_agent.ZIAgent at 0x15d9bb750>,\n 10: <marketsim.agent.zero_information_agent.ZIAgent at 0x15d9bb710>,\n 11: <marketsim.agent.zero_information_agent.ZIAgent at 0x15d9bb790>,\n 12: <marketsim.agent.zero_information_agent.ZIAgent at 0x15d9bb890>,\n 13: <marketsim.agent.zero_information_agent.ZIAgent at 0x15d9bb910>,\n 14: <marketsim.agent.zero_information_agent.ZIAgent at 0x15d9bb990>,\n 15: <marketsim.agent.zero_information_agent.ZIAgent at 0x15d9bba10>,\n 16: <marketsim.agent.zero_information_agent.ZIAgent at 0x15d9bba90>,\n 17: <marketsim.agent.zero_information_agent.ZIAgent at 0x15d9bbb10>,\n 18: <marketsim.agent.zero_information_agent.ZIAgent at 0x15d9bbb90>,\n 19: <marketsim.agent.zero_information_agent.ZIAgent at 0x15d9bbc10>,\n 20: <marketsim.agent.zero_information_agent.ZIAgent at 0x15d9bbc90>,\n 21: <marketsim.agent.zero_information_agent.ZIAgent at 0x15d9bbd10>,\n 22: <marketsim.agent.zero_information_agent.ZIAgent at 0x15d9bbd90>,\n 23: <marketsim.agent.zero_information_agent.ZIAgent at 0x15d9bbe10>,\n 24: <marketsim.agent.zero_information_agent.ZIAgent at 0x15d9bbe90>,\n 25: <marketsim.agent.zero_information_agent.ZIAgent at 0x15d9bbf10>,\n 26: <marketsim.agent.zero_information_agent.ZIAgent at 0x15d9bbf90>,\n 27: <marketsim.agent.zero_information_agent.ZIAgent at 0x15d970050>,\n 28: <marketsim.agent.zero_information_agent.ZIAgent at 0x15d9700d0>,\n 29: <marketsim.agent.zero_information_agent.ZIAgent at 0x15d970150>,\n 30: <marketsim.agent.zero_information_agent.ZIAgent at 0x15d9701d0>,\n 31: <marketsim.agent.zero_information_agent.ZIAgent at 0x15d970250>,\n 32: <marketsim.agent.zero_information_agent.ZIAgent at 0x15d9702d0>,\n 33: <marketsim.agent.zero_information_agent.ZIAgent at 0x15d970350>,\n 34: <marketsim.agent.zero_information_agent.ZIAgent at 0x15d9703d0>,\n 35: <marketsim.agent.zero_information_agent.ZIAgent at 0x15d970450>,\n 36: <marketsim.agent.zero_information_agent.ZIAgent at 0x15d9704d0>,\n 37: <marketsim.agent.zero_information_agent.ZIAgent at 0x15d970550>,\n 38: <marketsim.agent.zero_information_agent.ZIAgent at 0x15d9705d0>,\n 39: <marketsim.agent.zero_information_agent.ZIAgent at 0x15d970650>,\n 40: <marketsim.agent.zero_information_agent.ZIAgent at 0x15d9706d0>,\n 41: <marketsim.agent.zero_information_agent.ZIAgent at 0x15d970750>,\n 42: <marketsim.agent.zero_information_agent.ZIAgent at 0x15d9707d0>,\n 43: <marketsim.agent.zero_information_agent.ZIAgent at 0x15d970850>,\n 44: <marketsim.agent.zero_information_agent.ZIAgent at 0x15d9708d0>,\n 45: <marketsim.agent.zero_information_agent.ZIAgent at 0x15d970950>,\n 46: <marketsim.agent.zero_information_agent.ZIAgent at 0x15d9709d0>,\n 47: <marketsim.agent.zero_information_agent.ZIAgent at 0x15d970a50>,\n 48: <marketsim.agent.zero_information_agent.ZIAgent at 0x15d970ad0>,\n 49: <marketsim.agent.zero_information_agent.ZIAgent at 0x15d970b50>,\n 50: <marketsim.agent.zero_information_agent.ZIAgent at 0x15d970bd0>,\n 51: <marketsim.agent.zero_information_agent.ZIAgent at 0x15d970c50>,\n 52: <marketsim.agent.zero_information_agent.ZIAgent at 0x15d970cd0>,\n 53: <marketsim.agent.zero_information_agent.ZIAgent at 0x15d970d50>,\n 54: <marketsim.agent.zero_information_agent.ZIAgent at 0x15d970e50>,\n 55: <marketsim.agent.zero_information_agent.ZIAgent at 0x15d970f10>,\n 56: <marketsim.agent.zero_information_agent.ZIAgent at 0x15d970fd0>,\n 57: <marketsim.agent.zero_information_agent.ZIAgent at 0x15d971090>,\n 58: <marketsim.agent.zero_information_agent.ZIAgent at 0x15d971150>,\n 59: <marketsim.agent.zero_information_agent.ZIAgent at 0x15d971210>,\n 60: <marketsim.agent.zero_information_agent.ZIAgent at 0x15d9712d0>,\n 61: <marketsim.agent.zero_information_agent.ZIAgent at 0x15d971390>,\n 62: <marketsim.agent.zero_information_agent.ZIAgent at 0x15d971450>,\n 63: <marketsim.agent.zero_information_agent.ZIAgent at 0x15d971510>,\n 64: <marketsim.agent.zero_information_agent.ZIAgent at 0x15d9715d0>,\n 65: <marketsim.agent.zero_information_agent.ZIAgent at 0x15d971690>}"
     },
     "execution_count": 37,
     "metadata": {},
     "output_type": "execute_result"
    }
   ],
   "source": [
    "sim.agents"
   ],
   "metadata": {
    "collapsed": false,
    "ExecuteTime": {
     "end_time": "2023-11-02T08:04:05.322025Z",
     "start_time": "2023-11-02T08:04:05.286140Z"
    }
   },
   "id": "38ed7b6f00360f1b"
  },
  {
   "cell_type": "code",
   "execution_count": 38,
   "outputs": [
    {
     "name": "stdout",
     "output_type": "stream",
     "text": [
      "0\n",
      "2\n",
      "-1\n",
      "3\n",
      "0\n",
      "3\n",
      "0\n",
      "4\n",
      "2\n",
      "-2\n",
      "-2\n",
      "1\n",
      "2\n",
      "0\n",
      "6\n",
      "-2\n",
      "2\n",
      "-5\n",
      "5\n",
      "-1\n",
      "-1\n",
      "0\n",
      "1\n",
      "0\n",
      "-1\n",
      "0\n",
      "-3\n",
      "-5\n",
      "-4\n",
      "2\n",
      "0\n",
      "-1\n",
      "-2\n",
      "-1\n",
      "2\n",
      "0\n",
      "0\n",
      "3\n",
      "0\n",
      "0\n",
      "1\n",
      "0\n",
      "2\n",
      "-1\n",
      "-3\n",
      "0\n",
      "-2\n",
      "-2\n",
      "-2\n",
      "0\n",
      "1\n",
      "0\n",
      "4\n",
      "0\n",
      "-3\n",
      "-1\n",
      "0\n",
      "0\n",
      "-2\n",
      "0\n",
      "-4\n",
      "5\n",
      "-4\n",
      "0\n",
      "0\n",
      "4\n",
      "Total: 0\n"
     ]
    }
   ],
   "source": [
    "total = 0\n",
    "for agent_id in sim.agents:\n",
    "    print(sim.agents[agent_id].position)\n",
    "    total += sim.agents[agent_id].position\n",
    "print(f'Total: {total}')"
   ],
   "metadata": {
    "collapsed": false,
    "ExecuteTime": {
     "end_time": "2023-11-02T08:04:06.011901Z",
     "start_time": "2023-11-02T08:04:06.001535Z"
    }
   },
   "id": "bd3a2cd735b36661"
  },
  {
   "cell_type": "code",
   "execution_count": 41,
   "outputs": [
    {
     "data": {
      "text/plain": "-9000000.0"
     },
     "execution_count": 41,
     "metadata": {},
     "output_type": "execute_result"
    }
   ],
   "source": [],
   "metadata": {
    "collapsed": false,
    "ExecuteTime": {
     "end_time": "2023-11-02T08:04:57.943379Z",
     "start_time": "2023-11-02T08:04:57.939432Z"
    }
   },
   "id": "e8af27c660544cf2"
  },
  {
   "cell_type": "code",
   "execution_count": null,
   "outputs": [],
   "source": [],
   "metadata": {
    "collapsed": false
   },
   "id": "1dc375413b412a16"
  }
 ],
 "metadata": {
  "kernelspec": {
   "display_name": "Python 3",
   "language": "python",
   "name": "python3"
  },
  "language_info": {
   "codemirror_mode": {
    "name": "ipython",
    "version": 2
   },
   "file_extension": ".py",
   "mimetype": "text/x-python",
   "name": "python",
   "nbconvert_exporter": "python",
   "pygments_lexer": "ipython2",
   "version": "2.7.6"
  }
 },
 "nbformat": 4,
 "nbformat_minor": 5
}
