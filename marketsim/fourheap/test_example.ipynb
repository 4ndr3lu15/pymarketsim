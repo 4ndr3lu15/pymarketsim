{
 "cells": [
  {
   "cell_type": "code",
   "execution_count": 1,
   "id": "initial_id",
   "metadata": {
    "collapsed": true,
    "ExecuteTime": {
     "end_time": "2023-11-02T15:05:34.220498Z",
     "start_time": "2023-11-02T15:05:34.130348Z"
    }
   },
   "outputs": [],
   "source": [
    "%load_ext autoreload\n",
    "%autoreload 2\n",
    "\n",
    "from fourheap import FourHeap\n",
    "from order import Order\n",
    "import constants"
   ]
  },
  {
   "cell_type": "code",
   "execution_count": 2,
   "outputs": [],
   "source": [
    "fh = FourHeap()\n",
    "\n",
    "order1 = Order(price=300, quantity=10, order_id=1, agent_id=1, order_type=constants.BUY,\n",
    "               time=1)\n",
    "order2 = Order(price=200, quantity=5, order_id=2, agent_id=1, order_type=constants.BUY,\n",
    "               time=1)\n",
    "order3 = Order(price=150, quantity=15, order_id=3, agent_id=1, order_type=constants.BUY, \n",
    "               time=1)\n",
    "\n",
    "order7 = Order(price=20, quantity=15, order_id=7, agent_id=1, order_type=constants.SELL,\n",
    "               time=1)\n",
    "order8 = Order(price=80, quantity=50, order_id=8, agent_id=1, order_type=constants.SELL,\n",
    "                time=1)"
   ],
   "metadata": {
    "collapsed": false,
    "ExecuteTime": {
     "end_time": "2023-11-02T15:05:39.472255Z",
     "start_time": "2023-11-02T15:05:39.429397Z"
    }
   },
   "id": "9ebe7d13cf6423a0"
  },
  {
   "cell_type": "code",
   "execution_count": 3,
   "outputs": [],
   "source": [
    "fh.insert(order3)\n",
    "fh.insert(order7)\n",
    "fh.insert(order8)\n",
    "fh.insert(order1)\n",
    "fh.insert(order2)\n"
   ],
   "metadata": {
    "collapsed": false,
    "ExecuteTime": {
     "end_time": "2023-11-02T15:05:40.109776Z",
     "start_time": "2023-11-02T15:05:40.080774Z"
    }
   },
   "id": "93cdb5497d91e96f"
  },
  {
   "cell_type": "code",
   "execution_count": 4,
   "outputs": [
    {
     "data": {
      "text/plain": "[(150, 3), (300, 1), (200, 2)]"
     },
     "execution_count": 4,
     "metadata": {},
     "output_type": "execute_result"
    }
   ],
   "source": [
    "fh.buy_matched.heap"
   ],
   "metadata": {
    "collapsed": false,
    "ExecuteTime": {
     "end_time": "2023-11-02T15:05:40.720081Z",
     "start_time": "2023-11-02T15:05:40.705367Z"
    }
   },
   "id": "747b16129f56edbf"
  },
  {
   "cell_type": "code",
   "execution_count": 5,
   "outputs": [
    {
     "data": {
      "text/plain": "[(-80, 8), (-20, 7)]"
     },
     "execution_count": 5,
     "metadata": {},
     "output_type": "execute_result"
    }
   ],
   "source": [
    "fh.sell_matched.heap"
   ],
   "metadata": {
    "collapsed": false,
    "ExecuteTime": {
     "end_time": "2023-11-02T15:05:41.182966Z",
     "start_time": "2023-11-02T15:05:41.143402Z"
    }
   },
   "id": "8169195a279cd32"
  },
  {
   "cell_type": "code",
   "execution_count": 6,
   "outputs": [
    {
     "data": {
      "text/plain": "[(80, 8)]"
     },
     "execution_count": 6,
     "metadata": {},
     "output_type": "execute_result"
    }
   ],
   "source": [
    "fh.sell_unmatched.heap"
   ],
   "metadata": {
    "collapsed": false,
    "ExecuteTime": {
     "end_time": "2023-11-02T15:05:41.500612Z",
     "start_time": "2023-11-02T15:05:41.486881Z"
    }
   },
   "id": "11ed1f5c2ad952a3"
  },
  {
   "cell_type": "code",
   "execution_count": 7,
   "outputs": [
    {
     "data": {
      "text/plain": "[]"
     },
     "execution_count": 7,
     "metadata": {},
     "output_type": "execute_result"
    }
   ],
   "source": [
    "fh.buy_unmatched.heap"
   ],
   "metadata": {
    "collapsed": false,
    "ExecuteTime": {
     "end_time": "2023-11-02T15:05:41.795768Z",
     "start_time": "2023-11-02T15:05:41.780858Z"
    }
   },
   "id": "9f09233888ad784f"
  },
  {
   "cell_type": "code",
   "execution_count": 8,
   "outputs": [
    {
     "name": "stdout",
     "output_type": "stream",
     "text": []
    }
   ],
   "source": [
    "print(fh.buy_unmatched)"
   ],
   "metadata": {
    "collapsed": false,
    "ExecuteTime": {
     "end_time": "2023-11-02T15:05:42.098750Z",
     "start_time": "2023-11-02T15:05:42.054940Z"
    }
   },
   "id": "3c43c2da0789ef35"
  },
  {
   "cell_type": "code",
   "execution_count": 9,
   "outputs": [
    {
     "name": "stdout",
     "output_type": "stream",
     "text": [
      "Order(price=150, order_type=1, quantity=15, agent_id=1, time=1, order_id=3, asset_id=1)\n",
      "Order(price=300, order_type=1, quantity=10, agent_id=1, time=1, order_id=1, asset_id=1)\n",
      "Order(price=200, order_type=1, quantity=5, agent_id=1, time=1, order_id=2, asset_id=1)\n"
     ]
    }
   ],
   "source": [
    "print(fh.buy_matched)"
   ],
   "metadata": {
    "collapsed": false,
    "ExecuteTime": {
     "end_time": "2023-11-02T15:05:42.638282Z",
     "start_time": "2023-11-02T15:05:42.620192Z"
    }
   },
   "id": "61fe04339be0c2"
  },
  {
   "cell_type": "code",
   "execution_count": 10,
   "outputs": [
    {
     "name": "stdout",
     "output_type": "stream",
     "text": [
      "Order(price=80, order_type=-1, quantity=15, agent_id=1, time=1, order_id=8, asset_id=1)\n",
      "Order(price=20, order_type=-1, quantity=15, agent_id=1, time=1, order_id=7, asset_id=1)\n"
     ]
    }
   ],
   "source": [
    "print(fh.sell_matched)"
   ],
   "metadata": {
    "collapsed": false,
    "ExecuteTime": {
     "end_time": "2023-11-02T15:05:43.350345Z",
     "start_time": "2023-11-02T15:05:43.306635Z"
    }
   },
   "id": "7c42ecce7faf149a"
  },
  {
   "cell_type": "code",
   "execution_count": 11,
   "outputs": [
    {
     "name": "stdout",
     "output_type": "stream",
     "text": [
      "Order(price=80, order_type=-1, quantity=35, agent_id=1, time=1, order_id=8, asset_id=1)\n"
     ]
    }
   ],
   "source": [
    "print(fh.sell_unmatched)"
   ],
   "metadata": {
    "collapsed": false,
    "ExecuteTime": {
     "end_time": "2023-11-02T15:05:43.672605Z",
     "start_time": "2023-11-02T15:05:43.650835Z"
    }
   },
   "id": "97c20b8738e0e160"
  },
  {
   "cell_type": "code",
   "execution_count": 290,
   "outputs": [],
   "source": [
    "# fh.remove(7)"
   ],
   "metadata": {
    "collapsed": false,
    "ExecuteTime": {
     "end_time": "2023-11-01T04:59:42.812676Z",
     "start_time": "2023-11-01T04:59:42.799436Z"
    }
   },
   "id": "6e649f84a266ab4b"
  },
  {
   "cell_type": "code",
   "execution_count": 291,
   "outputs": [
    {
     "data": {
      "text/plain": "[(-80, 8), (-20, 7)]"
     },
     "execution_count": 291,
     "metadata": {},
     "output_type": "execute_result"
    }
   ],
   "source": [
    "fh.sell_matched.heap"
   ],
   "metadata": {
    "collapsed": false,
    "ExecuteTime": {
     "end_time": "2023-11-01T04:59:42.974701Z",
     "start_time": "2023-11-01T04:59:42.961434Z"
    }
   },
   "id": "3386bcd8b0da583e"
  },
  {
   "cell_type": "code",
   "execution_count": 292,
   "outputs": [
    {
     "name": "stdout",
     "output_type": "stream",
     "text": [
      "Order(price=80, order_type=-1, quantity=15, agent_id=1, time=1, order_id=8, asset_id=1)\n",
      "Order(price=20, order_type=-1, quantity=15, agent_id=1, time=1, order_id=7, asset_id=1)\n"
     ]
    }
   ],
   "source": [
    "print(fh.sell_matched)"
   ],
   "metadata": {
    "collapsed": false,
    "ExecuteTime": {
     "end_time": "2023-11-01T04:59:43.135201Z",
     "start_time": "2023-11-01T04:59:43.122160Z"
    }
   },
   "id": "f5ba9a22f4298ec9"
  },
  {
   "cell_type": "code",
   "execution_count": 293,
   "outputs": [],
   "source": [
    "out = fh.market_clear()"
   ],
   "metadata": {
    "collapsed": false,
    "ExecuteTime": {
     "end_time": "2023-11-01T04:59:43.293602Z",
     "start_time": "2023-11-01T04:59:43.281990Z"
    }
   },
   "id": "8913eb6e1d953001"
  },
  {
   "cell_type": "code",
   "execution_count": 294,
   "outputs": [
    {
     "name": "stdout",
     "output_type": "stream",
     "text": [
      "MatchedOrder(price=80, order=Order(price=150, order_type=1, quantity=15, agent_id=1, time=1, order_id=3, asset_id=1))\n",
      "MatchedOrder(price=80, order=Order(price=300, order_type=1, quantity=10, agent_id=1, time=1, order_id=1, asset_id=1))\n",
      "MatchedOrder(price=80, order=Order(price=200, order_type=1, quantity=5, agent_id=1, time=1, order_id=2, asset_id=1))\n",
      "MatchedOrder(price=80, order=Order(price=80, order_type=-1, quantity=15, agent_id=1, time=1, order_id=8, asset_id=1))\n",
      "MatchedOrder(price=80, order=Order(price=20, order_type=-1, quantity=15, agent_id=1, time=1, order_id=7, asset_id=1))\n"
     ]
    }
   ],
   "source": [
    "for order in out:\n",
    "    print(order)"
   ],
   "metadata": {
    "collapsed": false,
    "ExecuteTime": {
     "end_time": "2023-11-01T04:59:43.452816Z",
     "start_time": "2023-11-01T04:59:43.441860Z"
    }
   },
   "id": "c3911e579bae5350"
  },
  {
   "cell_type": "code",
   "execution_count": 295,
   "outputs": [],
   "source": [
    "def get_vwap(matched_orders):\n",
    "    num = 0\n",
    "    den = 0\n",
    "    for order in matched_orders:\n",
    "        if order.order.order_type == constants.BUY:\n",
    "            price = order.price\n",
    "            quantity = order.order.quantity\n",
    "            num += price*quantity\n",
    "            den += quantity\n",
    "            \n",
    "    return num/den\n",
    "        "
   ],
   "metadata": {
    "collapsed": false,
    "ExecuteTime": {
     "end_time": "2023-11-01T04:59:43.644801Z",
     "start_time": "2023-11-01T04:59:43.630854Z"
    }
   },
   "id": "eb97977a550f358d"
  },
  {
   "cell_type": "code",
   "execution_count": 309,
   "outputs": [],
   "source": [
    "fh = FourHeap()\n",
    "\n",
    "oid = 0\n",
    "order =  Order(price=102, quantity=1, order_id=oid, agent_id=1, order_type=constants.SELL, time=1)\n",
    "fh.insert(order)\n",
    "oid += 1\n",
    "order =  Order(price=101, quantity=1, order_id=oid, agent_id=1, order_type=constants.SELL, time=1)\n",
    "fh.insert(order)\n",
    "oid += 1\n",
    "order =  Order(price=97, quantity=1, order_id=oid, agent_id=1, order_type=constants.BUY, time=1)\n",
    "fh.insert(order)\n",
    "oid += 1\n",
    "order =  Order(price=98, quantity=1, order_id=oid, agent_id=1, order_type=constants.BUY, time=1)\n",
    "fh.insert(order)\n",
    "oid += 1\n",
    "order =  Order(price=99, quantity=1, order_id=oid, agent_id=1, order_type=constants.BUY, time=1)\n",
    "fh.insert(order)\n",
    "oid += 1\n",
    "order =  Order(price=101, quantity=1, order_id=oid, agent_id=1, order_type=constants.BUY, time=2)\n",
    "fh.insert(order)\n",
    "oid += 1\n",
    "# order =  Order(price=99, quantity=1, order_id=oid, agent_id=1, order_type=constants.SELL, time=4)\n",
    "fh.insert(order)\n",
    "oid += 1\n",
    "\n",
    "\n"
   ],
   "metadata": {
    "collapsed": false,
    "ExecuteTime": {
     "end_time": "2023-11-01T05:00:15.329945Z",
     "start_time": "2023-11-01T05:00:15.230421Z"
    }
   },
   "id": "a81820101b4e087c"
  },
  {
   "cell_type": "code",
   "execution_count": 310,
   "outputs": [
    {
     "data": {
      "text/plain": "[(-101, 1)]"
     },
     "execution_count": 310,
     "metadata": {},
     "output_type": "execute_result"
    }
   ],
   "source": [
    "fh.sell_matched.heap"
   ],
   "metadata": {
    "collapsed": false,
    "ExecuteTime": {
     "end_time": "2023-11-01T05:00:15.636450Z",
     "start_time": "2023-11-01T05:00:15.622709Z"
    }
   },
   "id": "7647d34c6ea77478"
  },
  {
   "cell_type": "code",
   "execution_count": 311,
   "outputs": [
    {
     "data": {
      "text/plain": "[(101, 5)]"
     },
     "execution_count": 311,
     "metadata": {},
     "output_type": "execute_result"
    }
   ],
   "source": [
    "fh.buy_matched.heap"
   ],
   "metadata": {
    "collapsed": false,
    "ExecuteTime": {
     "end_time": "2023-11-01T05:00:16.042424Z",
     "start_time": "2023-11-01T05:00:16.026767Z"
    }
   },
   "id": "30a5bec45b2ca81e"
  },
  {
   "cell_type": "code",
   "execution_count": 313,
   "outputs": [
    {
     "name": "stdout",
     "output_type": "stream",
     "text": [
      "Order(price=101, order_type=1, quantity=1, agent_id=1, time=2, order_id=5, asset_id=1)\n",
      "Order(price=99, order_type=1, quantity=1, agent_id=1, time=1, order_id=4, asset_id=1)\n",
      "Order(price=98, order_type=1, quantity=1, agent_id=1, time=1, order_id=3, asset_id=1)\n",
      "Order(price=97, order_type=1, quantity=1, agent_id=1, time=1, order_id=2, asset_id=1)\n"
     ]
    }
   ],
   "source": [
    "print(fh.buy_unmatched)"
   ],
   "metadata": {
    "collapsed": false,
    "ExecuteTime": {
     "end_time": "2023-11-01T05:00:38.442735Z",
     "start_time": "2023-11-01T05:00:38.423623Z"
    }
   },
   "id": "45627cba17b3c4a5"
  },
  {
   "cell_type": "code",
   "execution_count": 314,
   "outputs": [
    {
     "name": "stdout",
     "output_type": "stream",
     "text": [
      "Order(price=101, order_type=1, quantity=1, agent_id=1, time=2, order_id=5, asset_id=1)\n"
     ]
    }
   ],
   "source": [
    "print(fh.buy_matched)"
   ],
   "metadata": {
    "collapsed": false,
    "ExecuteTime": {
     "end_time": "2023-11-01T05:01:00.017556Z",
     "start_time": "2023-11-01T05:00:59.910600Z"
    }
   },
   "id": "319562bdfc5ad3ff"
  },
  {
   "cell_type": "code",
   "execution_count": 304,
   "outputs": [],
   "source": [
    "out = fh.market_clear()"
   ],
   "metadata": {
    "collapsed": false,
    "ExecuteTime": {
     "end_time": "2023-11-01T04:59:50.077334Z",
     "start_time": "2023-11-01T04:59:50.065299Z"
    }
   },
   "id": "7b5a28688de2b32"
  },
  {
   "cell_type": "code",
   "execution_count": 305,
   "outputs": [
    {
     "data": {
      "text/plain": "99.0"
     },
     "execution_count": 305,
     "metadata": {},
     "output_type": "execute_result"
    }
   ],
   "source": [
    "get_vwap(out)"
   ],
   "metadata": {
    "collapsed": false,
    "ExecuteTime": {
     "end_time": "2023-11-01T04:59:50.442013Z",
     "start_time": "2023-11-01T04:59:50.429733Z"
    }
   },
   "id": "924849aeef5a91cf"
  },
  {
   "cell_type": "code",
   "execution_count": 306,
   "outputs": [
    {
     "name": "stdout",
     "output_type": "stream",
     "text": [
      "MatchedOrder(price=99, order=Order(price=101, order_type=1, quantity=1, agent_id=1, time=2, order_id=5, asset_id=1))\n",
      "MatchedOrder(price=99, order=Order(price=99, order_type=-1, quantity=1, agent_id=1, time=4, order_id=6, asset_id=1))\n"
     ]
    }
   ],
   "source": [
    "for order in out:\n",
    "    print(order)"
   ],
   "metadata": {
    "collapsed": false,
    "ExecuteTime": {
     "end_time": "2023-11-01T04:59:50.697258Z",
     "start_time": "2023-11-01T04:59:50.685613Z"
    }
   },
   "id": "df94e896bfc46e72"
  },
  {
   "cell_type": "code",
   "execution_count": 307,
   "outputs": [
    {
     "name": "stdout",
     "output_type": "stream",
     "text": [
      "Order(price=101, order_type=-1, quantity=1, agent_id=1, time=1, order_id=1, asset_id=1)\n",
      "Order(price=102, order_type=-1, quantity=1, agent_id=1, time=1, order_id=0, asset_id=1)\n"
     ]
    }
   ],
   "source": [
    "print(fh.sell_unmatched)"
   ],
   "metadata": {
    "collapsed": false,
    "ExecuteTime": {
     "end_time": "2023-11-01T04:59:51.284942Z",
     "start_time": "2023-11-01T04:59:51.271938Z"
    }
   },
   "id": "d80deb923c1433ba"
  },
  {
   "cell_type": "code",
   "execution_count": 308,
   "outputs": [
    {
     "name": "stdout",
     "output_type": "stream",
     "text": [
      "Order(price=99, order_type=1, quantity=1, agent_id=1, time=1, order_id=4, asset_id=1)\n",
      "Order(price=97, order_type=1, quantity=1, agent_id=1, time=1, order_id=2, asset_id=1)\n",
      "Order(price=98, order_type=1, quantity=1, agent_id=1, time=1, order_id=3, asset_id=1)\n"
     ]
    }
   ],
   "source": [
    "print(fh.buy_unmatched)"
   ],
   "metadata": {
    "collapsed": false,
    "ExecuteTime": {
     "end_time": "2023-11-01T04:59:51.624823Z",
     "start_time": "2023-11-01T04:59:51.611506Z"
    }
   },
   "id": "f8019646d738bda6"
  },
  {
   "cell_type": "code",
   "execution_count": null,
   "outputs": [],
   "source": [],
   "metadata": {
    "collapsed": false
   },
   "id": "ac1508356ed926d0"
  }
 ],
 "metadata": {
  "kernelspec": {
   "display_name": "Python 3",
   "language": "python",
   "name": "python3"
  },
  "language_info": {
   "codemirror_mode": {
    "name": "ipython",
    "version": 2
   },
   "file_extension": ".py",
   "mimetype": "text/x-python",
   "name": "python",
   "nbconvert_exporter": "python",
   "pygments_lexer": "ipython2",
   "version": "2.7.6"
  }
 },
 "nbformat": 4,
 "nbformat_minor": 5
}
