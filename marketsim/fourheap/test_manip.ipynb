{
 "cells": [
  {
   "cell_type": "code",
   "execution_count": 89,
   "id": "initial_id",
   "metadata": {
    "collapsed": true,
    "ExecuteTime": {
     "end_time": "2023-11-01T05:26:36.847912Z",
     "start_time": "2023-11-01T05:26:36.835200Z"
    }
   },
   "outputs": [
    {
     "name": "stdout",
     "output_type": "stream",
     "text": [
      "The autoreload extension is already loaded. To reload it, use:\n",
      "  %reload_ext autoreload\n"
     ]
    }
   ],
   "source": [
    "%load_ext autoreload\n",
    "%autoreload 2\n",
    "\n",
    "from fourheap import FourHeap\n",
    "from order import Order\n",
    "import constants"
   ]
  },
  {
   "cell_type": "code",
   "execution_count": 90,
   "outputs": [],
   "source": [
    "def get_vwap(matched_orders):\n",
    "    num = 0\n",
    "    den = 0\n",
    "    for order in matched_orders:\n",
    "        if order.order.order_type == constants.BUY:\n",
    "            price = order.price\n",
    "            quantity = order.order.quantity\n",
    "            num += price*quantity\n",
    "            den += quantity\n",
    "            \n",
    "    return num/den\n"
   ],
   "metadata": {
    "collapsed": false,
    "ExecuteTime": {
     "end_time": "2023-11-01T05:26:37.206234Z",
     "start_time": "2023-11-01T05:26:37.191378Z"
    }
   },
   "id": "c1a61ad08e99f88f"
  },
  {
   "cell_type": "code",
   "execution_count": 91,
   "outputs": [],
   "source": [
    "fh = FourHeap()\n",
    "\n",
    "oid = 0\n",
    "order =  Order(price=102, quantity=1, order_id=oid, agent_id=1, order_type=constants.SELL, time=1)\n",
    "fh.insert(order)\n",
    "oid += 1\n",
    "order =  Order(price=101, quantity=1, order_id=oid, agent_id=1, order_type=constants.SELL, time=1)\n",
    "fh.insert(order)\n",
    "oid += 1\n",
    "order =  Order(price=97, quantity=1, order_id=oid, agent_id=1, order_type=constants.BUY, time=1)\n",
    "fh.insert(order)\n",
    "oid += 1\n",
    "order =  Order(price=98, quantity=1, order_id=oid, agent_id=1, order_type=constants.BUY, time=1)\n",
    "fh.insert(order)\n",
    "oid += 1\n",
    "order =  Order(price=99, quantity=1, order_id=oid, agent_id=1, order_type=constants.BUY, time=1)\n",
    "fh.insert(order)\n",
    "out = fh.market_clear()\n",
    "oid += 1\n",
    "order =  Order(price=101, quantity=1, order_id=oid, agent_id=1, order_type=constants.BUY, time=2)\n",
    "fh.insert(order)\n",
    "out += fh.market_clear()\n",
    "oid += 1\n",
    "order =  Order(price=99, quantity=1, order_id=oid, agent_id=1, order_type=constants.SELL, time=4)\n",
    "fh.insert(order)\n",
    "out += fh.market_clear()\n",
    "oid += 1\n",
    "order =  Order(price=101, quantity=1, order_id=oid, agent_id=1, order_type=constants.SELL, time=5)\n",
    "fh.insert(order)\n",
    "out += fh.market_clear()\n",
    "oid += 1\n",
    "order =  Order(price=101, quantity=1, order_id=oid, agent_id=1, order_type=constants.BUY, time=6)\n",
    "fh.insert(order)\n",
    "out += fh.market_clear()\n",
    "oid += 1\n",
    "\n",
    "\n"
   ],
   "metadata": {
    "collapsed": false,
    "ExecuteTime": {
     "end_time": "2023-11-01T05:26:37.505151Z",
     "start_time": "2023-11-01T05:26:37.488038Z"
    }
   },
   "id": "f5338d3ab850379f"
  },
  {
   "cell_type": "code",
   "execution_count": 92,
   "outputs": [
    {
     "data": {
      "text/plain": "100.33333333333333"
     },
     "execution_count": 92,
     "metadata": {},
     "output_type": "execute_result"
    }
   ],
   "source": [
    "get_vwap(out)"
   ],
   "metadata": {
    "collapsed": false,
    "ExecuteTime": {
     "end_time": "2023-11-01T05:26:38.248959Z",
     "start_time": "2023-11-01T05:26:38.235868Z"
    }
   },
   "id": "879f0483fc4843d9"
  },
  {
   "cell_type": "code",
   "execution_count": 93,
   "outputs": [],
   "source": [
    "order =  Order(price=99, quantity=1, order_id=oid, agent_id=1, order_type=constants.SELL, time=7)\n",
    "fh.insert(order)\n",
    "out += fh.market_clear()\n",
    "oid += 1\n",
    "order =  Order(price=98, quantity=1, order_id=oid, agent_id=1, order_type=constants.SELL, time=8)\n",
    "fh.insert(order)\n",
    "out += fh.market_clear()\n",
    "oid += 1\n",
    "order =  Order(price=97, quantity=1, order_id=oid, agent_id=1, order_type=constants.SELL, time=9)\n",
    "fh.insert(order)\n",
    "out += fh.market_clear()\n",
    "oid += 1\n"
   ],
   "metadata": {
    "collapsed": false,
    "ExecuteTime": {
     "end_time": "2023-11-01T05:26:38.880385Z",
     "start_time": "2023-11-01T05:26:38.866130Z"
    }
   },
   "id": "5a6f76edb4dc7410"
  },
  {
   "cell_type": "code",
   "execution_count": 94,
   "outputs": [
    {
     "data": {
      "text/plain": "99.2"
     },
     "execution_count": 94,
     "metadata": {},
     "output_type": "execute_result"
    }
   ],
   "source": [
    "get_vwap(out)"
   ],
   "metadata": {
    "collapsed": false,
    "ExecuteTime": {
     "end_time": "2023-11-01T05:26:43.678352Z",
     "start_time": "2023-11-01T05:26:43.662049Z"
    }
   },
   "id": "70cc208991c64663"
  },
  {
   "cell_type": "code",
   "execution_count": null,
   "outputs": [],
   "source": [],
   "metadata": {
    "collapsed": false
   },
   "id": "528112ad629492a"
  }
 ],
 "metadata": {
  "kernelspec": {
   "display_name": "Python 3",
   "language": "python",
   "name": "python3"
  },
  "language_info": {
   "codemirror_mode": {
    "name": "ipython",
    "version": 2
   },
   "file_extension": ".py",
   "mimetype": "text/x-python",
   "name": "python",
   "nbconvert_exporter": "python",
   "pygments_lexer": "ipython2",
   "version": "2.7.6"
  }
 },
 "nbformat": 4,
 "nbformat_minor": 5
}
