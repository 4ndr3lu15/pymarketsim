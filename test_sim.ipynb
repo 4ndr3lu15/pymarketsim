{
 "cells": [
  {
   "cell_type": "code",
   "execution_count": 1,
   "id": "initial_id",
   "metadata": {
    "collapsed": true,
    "ExecuteTime": {
     "end_time": "2024-01-17T03:17:47.122512500Z",
     "start_time": "2024-01-17T03:17:46.287595300Z"
    }
   },
   "outputs": [],
   "source": [
    "from marketsim.simulator.simulator import Simulator\n",
    "from marketsim.simulator.sampled_arrival_simulator import SimulatorSampledArrival"
   ]
  },
  {
   "cell_type": "code",
   "execution_count": 3,
   "outputs": [
    {
     "name": "stdout",
     "output_type": "stream",
     "text": [
      "737 ms ± 4.38 ms per loop (mean ± std. dev. of 7 runs, 1 loop each)\n"
     ]
    }
   ],
   "source": [
    "%%timeit\n",
    "\n",
    "sim = Simulator(num_agents=66, sim_time=60000, lam=1e-4, mean=1e7, r=.05, shock_var=1e6)\n",
    "sim.run()"
   ],
   "metadata": {
    "collapsed": false,
    "ExecuteTime": {
     "end_time": "2024-01-17T03:15:39.594849500Z",
     "start_time": "2024-01-17T03:15:33.637238200Z"
    }
   },
   "id": "72ae6676eeab193e"
  },
  {
   "cell_type": "code",
   "execution_count": 2,
   "outputs": [
    {
     "name": "stdout",
     "output_type": "stream",
     "text": [
      "At the end of the simulation we get {0: tensor(-4.), 1: tensor(-3826.), 2: tensor(-12.), 3: tensor(-10176.), 4: tensor(1231.), 5: tensor(1256.), 6: tensor(5096.), 7: tensor(1302.), 8: tensor(5084.), 9: tensor(-3842.), 10: tensor(-1257.), 11: tensor(-3824.), 12: tensor(3850.), 13: tensor(-3816.), 14: tensor(-3814.), 15: tensor(2570.), 16: tensor(-1273.), 17: tensor(-3850.), 18: tensor(1319.), 19: tensor(2576.), 20: tensor(6.), 21: tensor(2558.), 22: tensor(1224.), 23: tensor(1300.), 24: tensor(2574.), 25: tensor(-6380.), 26: tensor(-1219.), 27: tensor(-19.), 28: tensor(1327.), 29: tensor(3792.), 30: tensor(-3844.), 31: tensor(-1280.), 32: tensor(2586.), 33: tensor(1284.), 34: tensor(2578.), 35: tensor(2538.), 36: tensor(-1288.), 37: tensor(-6364.), 38: tensor(3844.), 39: tensor(-2610.), 40: tensor(1270.), 41: tensor(-1251.), 42: tensor(-3868.), 43: tensor(-3840.), 44: tensor(3870.), 45: tensor(2518.), 46: tensor(2550.), 47: tensor(-1291.), 48: tensor(2552.), 49: tensor(5136.), 50: tensor(-5120.), 51: tensor(-3816.), 52: tensor(-10.), 53: tensor(2542.), 54: tensor(-3844.), 55: tensor(1242.), 56: tensor(26.), 57: tensor(-1292.), 58: tensor(1244.), 59: tensor(1252.), 60: tensor(-1280.), 61: tensor(-12.), 62: tensor(-1294.), 63: tensor(6400.), 64: tensor(2550.), 65: tensor(2544.)}\n"
     ]
    }
   ],
   "source": [
    "sim = SimulatorSampledArrival(num_agents=66, sim_time=60000, lam=1e-4, mean=1e7, r=.05, shock_var=1e6)\n",
    "sim.run()"
   ],
   "metadata": {
    "collapsed": false,
    "ExecuteTime": {
     "end_time": "2024-01-17T03:17:47.982025Z",
     "start_time": "2024-01-17T03:17:47.881044700Z"
    }
   },
   "id": "a68010fcb5fc866b"
  },
  {
   "cell_type": "code",
   "execution_count": 3,
   "outputs": [
    {
     "data": {
      "text/plain": "{0: <marketsim.agent.zero_intelligence_agent.ZIAgent at 0x7f9f3cc9da90>,\n 1: <marketsim.agent.zero_intelligence_agent.ZIAgent at 0x7f9f3ccbc350>,\n 2: <marketsim.agent.zero_intelligence_agent.ZIAgent at 0x7f9f3d1ab650>,\n 3: <marketsim.agent.zero_intelligence_agent.ZIAgent at 0x7fa03c28e550>,\n 4: <marketsim.agent.zero_intelligence_agent.ZIAgent at 0x7f9f3cc74c50>,\n 5: <marketsim.agent.zero_intelligence_agent.ZIAgent at 0x7f9f3d6e4450>,\n 6: <marketsim.agent.zero_intelligence_agent.ZIAgent at 0x7f9f3d2202d0>,\n 7: <marketsim.agent.zero_intelligence_agent.ZIAgent at 0x7fa060e489d0>,\n 8: <marketsim.agent.zero_intelligence_agent.ZIAgent at 0x7fa060e49190>,\n 9: <marketsim.agent.zero_intelligence_agent.ZIAgent at 0x7f9f3c619410>,\n 10: <marketsim.agent.zero_intelligence_agent.ZIAgent at 0x7f9f3c618590>,\n 11: <marketsim.agent.zero_intelligence_agent.ZIAgent at 0x7f9f3c61a4d0>,\n 12: <marketsim.agent.zero_intelligence_agent.ZIAgent at 0x7f9f3c61a6d0>,\n 13: <marketsim.agent.zero_intelligence_agent.ZIAgent at 0x7f9f3c61a750>,\n 14: <marketsim.agent.zero_intelligence_agent.ZIAgent at 0x7f9f3c61ab50>,\n 15: <marketsim.agent.zero_intelligence_agent.ZIAgent at 0x7f9f3c61a390>,\n 16: <marketsim.agent.zero_intelligence_agent.ZIAgent at 0x7f9f3c61a950>,\n 17: <marketsim.agent.zero_intelligence_agent.ZIAgent at 0x7f9f3c61a690>,\n 18: <marketsim.agent.zero_intelligence_agent.ZIAgent at 0x7f9f3c61a5d0>,\n 19: <marketsim.agent.zero_intelligence_agent.ZIAgent at 0x7f9f3c61ac10>,\n 20: <marketsim.agent.zero_intelligence_agent.ZIAgent at 0x7f9f3c61a090>,\n 21: <marketsim.agent.zero_intelligence_agent.ZIAgent at 0x7f9f3c61a590>,\n 22: <marketsim.agent.zero_intelligence_agent.ZIAgent at 0x7f9f3c619dd0>,\n 23: <marketsim.agent.zero_intelligence_agent.ZIAgent at 0x7f9f3c61bad0>,\n 24: <marketsim.agent.zero_intelligence_agent.ZIAgent at 0x7f9f3c61ba10>,\n 25: <marketsim.agent.zero_intelligence_agent.ZIAgent at 0x7f9f3c282b90>,\n 26: <marketsim.agent.zero_intelligence_agent.ZIAgent at 0x7f9f3c2838d0>,\n 27: <marketsim.agent.zero_intelligence_agent.ZIAgent at 0x7f9f3c283e10>,\n 28: <marketsim.agent.zero_intelligence_agent.ZIAgent at 0x7f9f3c283390>,\n 29: <marketsim.agent.zero_intelligence_agent.ZIAgent at 0x7f9f3c283f10>,\n 30: <marketsim.agent.zero_intelligence_agent.ZIAgent at 0x7f9f3ccacd90>,\n 31: <marketsim.agent.zero_intelligence_agent.ZIAgent at 0x7f9f3ccaf490>,\n 32: <marketsim.agent.zero_intelligence_agent.ZIAgent at 0x7f9f3c6246d0>,\n 33: <marketsim.agent.zero_intelligence_agent.ZIAgent at 0x7f9f3c625390>,\n 34: <marketsim.agent.zero_intelligence_agent.ZIAgent at 0x7f9f3c625c10>,\n 35: <marketsim.agent.zero_intelligence_agent.ZIAgent at 0x7f9f3c6240d0>,\n 36: <marketsim.agent.zero_intelligence_agent.ZIAgent at 0x7f9f3c6260d0>,\n 37: <marketsim.agent.zero_intelligence_agent.ZIAgent at 0x7f9f3cbadb10>,\n 38: <marketsim.agent.zero_intelligence_agent.ZIAgent at 0x7f9f3c286250>,\n 39: <marketsim.agent.zero_intelligence_agent.ZIAgent at 0x7f9f3c286410>,\n 40: <marketsim.agent.zero_intelligence_agent.ZIAgent at 0x7f9f3c285e50>,\n 41: <marketsim.agent.zero_intelligence_agent.ZIAgent at 0x7f9f3c284c10>,\n 42: <marketsim.agent.zero_intelligence_agent.ZIAgent at 0x7f9f3c284a50>,\n 43: <marketsim.agent.zero_intelligence_agent.ZIAgent at 0x7f9f3c284290>,\n 44: <marketsim.agent.zero_intelligence_agent.ZIAgent at 0x7f9f3c287490>,\n 45: <marketsim.agent.zero_intelligence_agent.ZIAgent at 0x7f9f3c284650>,\n 46: <marketsim.agent.zero_intelligence_agent.ZIAgent at 0x7f9f3c287310>,\n 47: <marketsim.agent.zero_intelligence_agent.ZIAgent at 0x7f9f3c2852d0>,\n 48: <marketsim.agent.zero_intelligence_agent.ZIAgent at 0x7f9f3c287710>,\n 49: <marketsim.agent.zero_intelligence_agent.ZIAgent at 0x7f9f3c284fd0>,\n 50: <marketsim.agent.zero_intelligence_agent.ZIAgent at 0x7f9f3c285c10>,\n 51: <marketsim.agent.zero_intelligence_agent.ZIAgent at 0x7f9f3c287150>,\n 52: <marketsim.agent.zero_intelligence_agent.ZIAgent at 0x7f9f3c2854d0>,\n 53: <marketsim.agent.zero_intelligence_agent.ZIAgent at 0x7f9f3c28a7d0>,\n 54: <marketsim.agent.zero_intelligence_agent.ZIAgent at 0x7f9f3c289510>,\n 55: <marketsim.agent.zero_intelligence_agent.ZIAgent at 0x7f9f3c289490>,\n 56: <marketsim.agent.zero_intelligence_agent.ZIAgent at 0x7f9f3c289d90>,\n 57: <marketsim.agent.zero_intelligence_agent.ZIAgent at 0x7f9f3c28a050>,\n 58: <marketsim.agent.zero_intelligence_agent.ZIAgent at 0x7f9f3c28a550>,\n 59: <marketsim.agent.zero_intelligence_agent.ZIAgent at 0x7f9f3c288290>,\n 60: <marketsim.agent.zero_intelligence_agent.ZIAgent at 0x7f9f3c289b50>,\n 61: <marketsim.agent.zero_intelligence_agent.ZIAgent at 0x7f9f3c289dd0>,\n 62: <marketsim.agent.zero_intelligence_agent.ZIAgent at 0x7f9f3c289cd0>,\n 63: <marketsim.agent.zero_intelligence_agent.ZIAgent at 0x7f9f3c2be710>,\n 64: <marketsim.agent.zero_intelligence_agent.ZIAgent at 0x7f9f3c2bef50>,\n 65: <marketsim.agent.zero_intelligence_agent.ZIAgent at 0x7f9f3c2bdfd0>}"
     },
     "execution_count": 3,
     "metadata": {},
     "output_type": "execute_result"
    }
   ],
   "source": [],
   "metadata": {
    "collapsed": false,
    "ExecuteTime": {
     "end_time": "2024-01-17T03:17:30.643252600Z",
     "start_time": "2024-01-17T03:17:30.591245100Z"
    }
   },
   "id": "b0af72cf83b89270"
  },
  {
   "cell_type": "code",
   "execution_count": null,
   "outputs": [],
   "source": [],
   "metadata": {
    "collapsed": false
   },
   "id": "b30197c5e58e5b32"
  }
 ],
 "metadata": {
  "kernelspec": {
   "display_name": "Python 3",
   "language": "python",
   "name": "python3"
  },
  "language_info": {
   "codemirror_mode": {
    "name": "ipython",
    "version": 2
   },
   "file_extension": ".py",
   "mimetype": "text/x-python",
   "name": "python",
   "nbconvert_exporter": "python",
   "pygments_lexer": "ipython2",
   "version": "2.7.6"
  }
 },
 "nbformat": 4,
 "nbformat_minor": 5
}
